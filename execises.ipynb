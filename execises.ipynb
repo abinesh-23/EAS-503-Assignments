{
 "cells": [
  {
   "cell_type": "markdown",
   "metadata": {},
   "source": [
    "Before you turn this problem in, make sure everything runs as expected. First, **restart the kernel** (in the menubar, select Kernel$\\rightarrow$Restart) and then **run all cells** (in the menubar, select Cell$\\rightarrow$Run All).\n",
    "\n",
    "Make sure you fill in any place that says `YOUR CODE HERE` or \"YOUR ANSWER HERE\", as well as your name and collaborators below:"
   ]
  },
  {
   "cell_type": "code",
   "execution_count": 1,
   "metadata": {},
   "outputs": [],
   "source": [
    "NAME = \"Abinesh Senthil Kumar\"\n",
    "COLLABORATORS = \"\""
   ]
  },
  {
   "cell_type": "markdown",
   "metadata": {},
   "source": [
    "---"
   ]
  },
  {
   "cell_type": "code",
   "execution_count": 2,
   "metadata": {
    "deletable": false,
    "nbgrader": {
     "cell_type": "code",
     "checksum": "d80339464cdb6170d2b3898129bb8bcc",
     "grade": false,
     "grade_id": "cell-7736b26b66387e08",
     "locked": false,
     "schema_version": 3,
     "solution": true,
     "task": false
    }
   },
   "outputs": [],
   "source": [
    "# Exercise 1\n",
    "def sphere_area(radius):\n",
    "    # Write a function that returns the surface area of a sphere given a radius. \n",
    "    # Use the input `radius` as the radius\n",
    "    # round the surface area to two decimales \n",
    "    # Use the PI from the math module\n",
    "    \n",
    "    import math\n",
    "    PI = math.pi\n",
    "    surfacearea = 4 * PI * (radius**2)\n",
    "    return round(surfacearea,2)\n",
    "    "
   ]
  },
  {
   "cell_type": "code",
   "execution_count": 3,
   "metadata": {
    "deletable": false,
    "editable": false,
    "nbgrader": {
     "cell_type": "code",
     "checksum": "82b0f889d89eb128efa989ae03db1ec5",
     "grade": true,
     "grade_id": "cell-cd169ff880b9c9af",
     "locked": true,
     "points": 2,
     "schema_version": 3,
     "solution": false,
     "task": false
    }
   },
   "outputs": [],
   "source": [
    "# Test cell #1 for exercise 1\n",
    "assert sphere_area(15) == 2827.43\n",
    "assert sphere_area(7.25) == 660.52"
   ]
  },
  {
   "cell_type": "code",
   "execution_count": 4,
   "metadata": {
    "deletable": false,
    "editable": false,
    "nbgrader": {
     "cell_type": "code",
     "checksum": "e8292f6783189a1b9a4789dd6233af58",
     "grade": true,
     "grade_id": "cell-96d4c8eab6a5297c",
     "locked": true,
     "points": 2,
     "schema_version": 3,
     "solution": false,
     "task": false
    }
   },
   "outputs": [],
   "source": [
    "# Test cell for exercise 1 (hidden)"
   ]
  },
  {
   "cell_type": "code",
   "execution_count": 5,
   "metadata": {
    "deletable": false,
    "nbgrader": {
     "cell_type": "code",
     "checksum": "5f29a3eca7f24f1255672773b658cdd1",
     "grade": false,
     "grade_id": "cell-fc31ef88e4698e4c",
     "locked": false,
     "schema_version": 3,
     "solution": true,
     "task": false
    }
   },
   "outputs": [],
   "source": [
    "# Exercise 2\n",
    "def sphere_volume(radius):\n",
    "    # Write a function that returns the volume of a sphere given a radius. \n",
    "    # Use the input `radius` as the radius\n",
    "    # round the surface area to two decimales \n",
    "    # Use the PI from the math module\n",
    "    \n",
    "    import math\n",
    "    PI = math.pi\n",
    "    \n",
    "    volume = (4/3) * PI * radius**3\n",
    "    return round(volume,2)"
   ]
  },
  {
   "cell_type": "code",
   "execution_count": 6,
   "metadata": {
    "deletable": false,
    "editable": false,
    "nbgrader": {
     "cell_type": "code",
     "checksum": "2b8ebea7678561c70eb909e03966ff92",
     "grade": true,
     "grade_id": "cell-7afc760eadc1b572",
     "locked": true,
     "points": 2,
     "schema_version": 3,
     "solution": false,
     "task": false
    }
   },
   "outputs": [],
   "source": [
    "# Test cell #1 for exercise 2\n",
    "assert sphere_volume(15) == 14137.17\n",
    "assert sphere_volume(7.5) == 1767.15"
   ]
  },
  {
   "cell_type": "code",
   "execution_count": 7,
   "metadata": {
    "deletable": false,
    "editable": false,
    "nbgrader": {
     "cell_type": "code",
     "checksum": "2037c919766d436744dc4ff0abc7eacc",
     "grade": true,
     "grade_id": "cell-5ba5475eb0d9a795",
     "locked": true,
     "points": 2,
     "schema_version": 3,
     "solution": false,
     "task": false
    }
   },
   "outputs": [],
   "source": [
    "# Test cell for exercise 2 (Hidden)"
   ]
  },
  {
   "cell_type": "code",
   "execution_count": 8,
   "metadata": {
    "deletable": false,
    "nbgrader": {
     "cell_type": "code",
     "checksum": "c2fbeb9dd2ba288defa043adb6ddf27a",
     "grade": false,
     "grade_id": "cell-f7c6618b722b51d0",
     "locked": false,
     "schema_version": 3,
     "solution": true,
     "task": false
    }
   },
   "outputs": [],
   "source": [
    "# Exercise 3\n",
    "def total_wages_for_the_week(hours, wage):\n",
    "    # Many companies pay time-and-a-half for any hours worked above 40 in a given week.\n",
    "    # Write a function that uses the inputs to this function, hours worked (hours) and the hourly rate (wage),  and \n",
    "    # calculate the total wages for the week. \n",
    "    # YOUR CODE HERE\n",
    "    if hours <= 40:\n",
    "        wage1 = hours * wage\n",
    "        return wage1\n",
    "    elif hours > 40:\n",
    "        wage2 = (40 * wage) + ((hours - 40) * ((1.5) * wage)) \n",
    "        return wage2\n",
    "    \n"
   ]
  },
  {
   "cell_type": "code",
   "execution_count": 9,
   "metadata": {
    "deletable": false,
    "editable": false,
    "nbgrader": {
     "cell_type": "code",
     "checksum": "3e0eabe68f746eb30f7656acd1a52696",
     "grade": true,
     "grade_id": "cell-635b5067a1408dac",
     "locked": true,
     "points": 2,
     "schema_version": 3,
     "solution": false,
     "task": false
    }
   },
   "outputs": [],
   "source": [
    "# Test cell for exercise 3\n",
    "assert total_wages_for_the_week(40, 25) == 1000\n",
    "assert total_wages_for_the_week(65, 63.4) == 4913.5"
   ]
  },
  {
   "cell_type": "code",
   "execution_count": 10,
   "metadata": {
    "deletable": false,
    "editable": false,
    "nbgrader": {
     "cell_type": "code",
     "checksum": "bbcd610a1ee6b3df2822caf3cee0fcb9",
     "grade": true,
     "grade_id": "cell-16a48177c3391f17",
     "locked": true,
     "points": 2,
     "schema_version": 3,
     "solution": false,
     "task": false
    }
   },
   "outputs": [],
   "source": [
    "# Test cell for exercise 3 (Hidden)"
   ]
  },
  {
   "cell_type": "code",
   "execution_count": 11,
   "metadata": {
    "deletable": false,
    "nbgrader": {
     "cell_type": "code",
     "checksum": "620de01771deb50775484d6513c01618",
     "grade": false,
     "grade_id": "cell-4537309f8b40b433",
     "locked": false,
     "schema_version": 3,
     "solution": true,
     "task": false
    }
   },
   "outputs": [],
   "source": [
    "# Exercise 4\n",
    "def convert_quiz_score_to_letter_grade(score):\n",
    "    if score == 0 or score == 1:\n",
    "        return \"F\"\n",
    "    #elif score == 1:\n",
    "     #   print(\"F\")\n",
    "    elif score == 2:\n",
    "        return \"D\"\n",
    "    elif score == 3:\n",
    "        return \"C\"\n",
    "    elif score == 4:\n",
    "        return \"B\"\n",
    "    elif score == 5:\n",
    "        return \"A\"\n",
    "    else:\n",
    "        return \"Not a valid score\"\n",
    "    "
   ]
  },
  {
   "cell_type": "code",
   "execution_count": 12,
   "metadata": {
    "deletable": false,
    "editable": false,
    "nbgrader": {
     "cell_type": "code",
     "checksum": "26d57c934d6fd8ed3264d081386413e3",
     "grade": true,
     "grade_id": "cell-59258c70892bdfe2",
     "locked": true,
     "points": 4,
     "schema_version": 3,
     "solution": false,
     "task": false
    }
   },
   "outputs": [],
   "source": [
    "# Test cell  for exercise 4 \n",
    "assert convert_quiz_score_to_letter_grade(0) == \"F\"\n",
    "assert convert_quiz_score_to_letter_grade(1) == \"F\"\n",
    "assert convert_quiz_score_to_letter_grade(2) == \"D\"\n",
    "assert convert_quiz_score_to_letter_grade(3) == \"C\"\n",
    "assert convert_quiz_score_to_letter_grade(4) == \"B\"\n",
    "assert convert_quiz_score_to_letter_grade(5) == \"A\""
   ]
  },
  {
   "cell_type": "code",
   "execution_count": 13,
   "metadata": {
    "deletable": false,
    "nbgrader": {
     "cell_type": "code",
     "checksum": "2ce438726d2b24ccca9d06d833e2de4e",
     "grade": false,
     "grade_id": "cell-938cf03b8db83592",
     "locked": false,
     "schema_version": 3,
     "solution": true,
     "task": false
    }
   },
   "outputs": [],
   "source": [
    "# Exercise 5 \n",
    "def convert_exam_score_to_letter_grade(score):\n",
    "    # A certain CS professor gives 100-point exams that are graded on the scale 90-100: A, 80-89: B, 70-79: C,\n",
    "    # 69-69: D, < 60: F. Write a function that accepts an exam score as input and uses a decision structure \n",
    "    # to calculate the corresponding grade. \n",
    "    # YOUR CODE HERE\n",
    "    if score >= 90 and score <= 100:\n",
    "        return \"A\"\n",
    "    elif score >= 80 and score <= 89:\n",
    "        return \"B\"\n",
    "    elif score >= 70 and score <= 79:\n",
    "        return \"C\"\n",
    "    elif score >= 60 and score <= 69:\n",
    "        return \"D\"\n",
    "    elif score < 60:\n",
    "        return \"F\"\n",
    "    "
   ]
  },
  {
   "cell_type": "code",
   "execution_count": 14,
   "metadata": {
    "deletable": false,
    "editable": false,
    "nbgrader": {
     "cell_type": "code",
     "checksum": "a11399e04bf88c518104f3fab2882cec",
     "grade": true,
     "grade_id": "cell-913bb7905082e4f6",
     "locked": true,
     "points": 2,
     "schema_version": 3,
     "solution": false,
     "task": false
    }
   },
   "outputs": [],
   "source": [
    "# Test cell  for exercise 5\n",
    "assert convert_exam_score_to_letter_grade(55) == \"F\"\n",
    "assert convert_exam_score_to_letter_grade(35) == \"F\"\n",
    "assert convert_exam_score_to_letter_grade(65) == \"D\"\n",
    "assert convert_exam_score_to_letter_grade(73) == \"C\"\n",
    "assert convert_exam_score_to_letter_grade(87) == \"B\"\n",
    "assert convert_exam_score_to_letter_grade(92) == \"A\""
   ]
  },
  {
   "cell_type": "code",
   "execution_count": 15,
   "metadata": {
    "deletable": false,
    "editable": false,
    "nbgrader": {
     "cell_type": "code",
     "checksum": "92e3e7afda7f333a7cbc1b1e322b4bc0",
     "grade": true,
     "grade_id": "cell-c0e4ea4c0dd98cb5",
     "locked": true,
     "points": 2,
     "schema_version": 3,
     "solution": false,
     "task": false
    }
   },
   "outputs": [],
   "source": [
    "# Test cell  for exercise 5 (Hidden)"
   ]
  },
  {
   "cell_type": "code",
   "execution_count": 16,
   "metadata": {
    "deletable": false,
    "nbgrader": {
     "cell_type": "code",
     "checksum": "e90aed4bb17cdb60452096284241ceb6",
     "grade": false,
     "grade_id": "cell-87e5ab1727332fc9",
     "locked": false,
     "schema_version": 3,
     "solution": true,
     "task": false
    }
   },
   "outputs": [],
   "source": [
    "# Exercise 6\n",
    "def calculate_class_standing_from_credits(credits):\n",
    "    # A certain college classifies students according to credits earned. A student with less than 7 credits is a Freshman.\n",
    "    # At least 7 credits are required to be a Sophomore, 16 to be a Junior and 26 to be classifed as Senior. \n",
    "    # Write a function that calculates class standing from teh number of credits earned. \n",
    "    # YOUR CODE HERE\n",
    "    if credits < 7:\n",
    "        return \"Freshman\" \n",
    "        #print(\"Freshman\")\n",
    "    elif credits >= 7 and credits < 16:\n",
    "        return \"Sophomore\" \n",
    "        #print(\"Sophomore\")\n",
    "    elif credits >= 16 and credits < 26:\n",
    "        return \"Junior\" \n",
    "        #print(\"Junior\")\n",
    "    elif credits >= 26:\n",
    "        return \"Senior\" \n",
    "        #print(\"Senior\")\n",
    "    "
   ]
  },
  {
   "cell_type": "code",
   "execution_count": 17,
   "metadata": {
    "deletable": false,
    "editable": false,
    "nbgrader": {
     "cell_type": "code",
     "checksum": "e50a604d53abca5be29f2126aa98d8a3",
     "grade": true,
     "grade_id": "cell-b8f9a22bb432f494",
     "locked": true,
     "points": 2,
     "schema_version": 3,
     "solution": false,
     "task": false
    }
   },
   "outputs": [],
   "source": [
    "# Test cell  for exercise 6\n",
    "assert calculate_class_standing_from_credits(6) == \"Freshman\"\n",
    "assert calculate_class_standing_from_credits(13) == \"Sophomore\"\n",
    "assert calculate_class_standing_from_credits(23) == \"Junior\"\n",
    "assert calculate_class_standing_from_credits(45) == \"Senior\"\n"
   ]
  },
  {
   "cell_type": "code",
   "execution_count": 18,
   "metadata": {
    "deletable": false,
    "editable": false,
    "nbgrader": {
     "cell_type": "code",
     "checksum": "f84a41a0ee66b76c54ec80ff4ec1204f",
     "grade": true,
     "grade_id": "cell-4f3ca68adff20e03",
     "locked": true,
     "points": 2,
     "schema_version": 3,
     "solution": false,
     "task": false
    }
   },
   "outputs": [],
   "source": [
    "# Test cell  for exercise 6"
   ]
  },
  {
   "cell_type": "code",
   "execution_count": 19,
   "metadata": {
    "deletable": false,
    "nbgrader": {
     "cell_type": "code",
     "checksum": "7906a7a7163346f8446f8c13bee9646e",
     "grade": false,
     "grade_id": "cell-69316b30d8c33c42",
     "locked": false,
     "schema_version": 3,
     "solution": true,
     "task": false
    }
   },
   "outputs": [],
   "source": [
    "# Exercise 7\n",
    "def calculate_bmi(weight, height):\n",
    "    # The body mass index (BMI) is calculated as a peron's weight (in pounds) times 720, divided by the square\n",
    "    # of the person's height (in inches). A BMI in teh rnage 19-25, inclusive, is considered health. Write a function\n",
    "    # that calculates a person's BMI and prints a message telling whether they are above, within, or below the \n",
    "    # the healthy range. \n",
    "    # Round to two decimals places\n",
    "    heightsq = height**2\n",
    "    bmi = (weight * 720) / heightsq\n",
    "    if bmi >= 19 and bmi <= 25:\n",
    "        print(\"Healthy\")\n",
    "        return round(bmi,2)\n",
    "    elif bmi > 25:\n",
    "        print(\"Above healthy range\")\n",
    "        return round(bmi,2)\n",
    "    elif bmi < 19:\n",
    "        print(\"Below healthy range\")\n",
    "        return round(bmi,2)\n",
    "    # YOUR CODE HERE\n",
    "    raise NotImplementedError()\n",
    "    \n",
    "    "
   ]
  },
  {
   "cell_type": "code",
   "execution_count": 20,
   "metadata": {
    "deletable": false,
    "editable": false,
    "nbgrader": {
     "cell_type": "code",
     "checksum": "63029986928e3b36073f4fa950d87162",
     "grade": true,
     "grade_id": "cell-b2edb2846eaa98a5",
     "locked": true,
     "points": 2,
     "schema_version": 3,
     "solution": false,
     "task": false
    }
   },
   "outputs": [
    {
     "name": "stdout",
     "output_type": "stream",
     "text": [
      "Above healthy range\n"
     ]
    }
   ],
   "source": [
    "# Test cell  for exercise 7\n",
    "assert calculate_bmi(150, 65) == 25.56"
   ]
  },
  {
   "cell_type": "code",
   "execution_count": 21,
   "metadata": {
    "deletable": false,
    "editable": false,
    "nbgrader": {
     "cell_type": "code",
     "checksum": "c6e3241034be1182cf452ec221c72db3",
     "grade": true,
     "grade_id": "cell-ad3c15e61f39cd2a",
     "locked": true,
     "points": 2,
     "schema_version": 3,
     "solution": false,
     "task": false
    }
   },
   "outputs": [],
   "source": [
    "# Test cell  for exercise 7 (hidden)"
   ]
  },
  {
   "cell_type": "code",
   "execution_count": 22,
   "metadata": {
    "deletable": false,
    "nbgrader": {
     "cell_type": "code",
     "checksum": "e9ddbabe9a0c4b7b6c928c8ecc517a45",
     "grade": false,
     "grade_id": "cell-458b93f22ceefd76",
     "locked": false,
     "schema_version": 3,
     "solution": true,
     "task": false
    }
   },
   "outputs": [],
   "source": [
    "# Exercise 8\n",
    "def calculate_fine(limit, speed):\n",
    "    # The speeding ticket fine policy in Podunksville is $50 plus $5 for each mph over the limit plus a \n",
    "    # penalty of $200 for any speed over 90 mph. Write a function that accepts a speed limit and a clocked\n",
    "    # speed and either return the string `Legal` or the amount of fine, if the speed is illegal. \n",
    "    # The speeding ticket fine policy in Podunksville is $50 plus $5 for each mph over the limit plus a \n",
    "    # penalty of $200 for any speed over 90 mph. Write a function that accepts a speed limit and a clocked\n",
    "    # speed and either return the string `Legal` or the amount of fine, if the speed is illegal. \n",
    "    if speed > limit and speed <= 90:\n",
    "        fine = 50 + ((speed - limit)*5)\n",
    "        return fine\n",
    "    if speed > 90:\n",
    "        fine1 = 250 + ((speed - limit)*5) \n",
    "        return fine1\n",
    "    elif speed <= limit:\n",
    "        return \"Legal\"\n",
    "    "
   ]
  },
  {
   "cell_type": "code",
   "execution_count": 23,
   "metadata": {
    "deletable": false,
    "editable": false,
    "nbgrader": {
     "cell_type": "code",
     "checksum": "bcf19357e5bf4e5dcbd154a060481bda",
     "grade": true,
     "grade_id": "cell-0e86617dd30776cc",
     "locked": true,
     "points": 2,
     "schema_version": 3,
     "solution": false,
     "task": false
    }
   },
   "outputs": [],
   "source": [
    "# Test cell  for exercise 8\n",
    "assert calculate_fine(55, 85) == 200\n",
    "assert calculate_fine(55, 45) == 'Legal'\n",
    "assert calculate_fine(55, 100) == 475"
   ]
  },
  {
   "cell_type": "code",
   "execution_count": 24,
   "metadata": {
    "deletable": false,
    "editable": false,
    "nbgrader": {
     "cell_type": "code",
     "checksum": "dd34ad72e8362e04f19b8f1684858816",
     "grade": true,
     "grade_id": "cell-3aa05ca45ba9b9ba",
     "locked": true,
     "points": 2,
     "schema_version": 3,
     "solution": false,
     "task": false
    }
   },
   "outputs": [],
   "source": [
    "# Test cell  for exercise 8"
   ]
  },
  {
   "cell_type": "code",
   "execution_count": 25,
   "metadata": {
    "deletable": false,
    "nbgrader": {
     "cell_type": "code",
     "checksum": "be7af95fdaef9b8ca9b952bc894f6c47",
     "grade": false,
     "grade_id": "cell-9a1f652136c7a757",
     "locked": false,
     "schema_version": 3,
     "solution": true,
     "task": false
    }
   },
   "outputs": [],
   "source": [
    "# Exercise 9\n",
    "def is_leap_year(year):\n",
    "    # A year is a leap year if it is divisible by 4, unless it is a century year that is not divisible \n",
    "    # by 400. (1800 and 1900 are not leap years while 1600 and 2000 are). Write a function that calculates\n",
    "    # whether a year is a leap year. Return True or False\n",
    "\n",
    "    if year % 4 == 0:\n",
    "        if year % 100 == 0:\n",
    "            if year % 400 == 0:\n",
    "                #print(\"True\")\n",
    "                return True\n",
    "            else:\n",
    "                #print(\"False\")\n",
    "                return False\n",
    "        else:\n",
    "             return True\n",
    "    else:\n",
    "        return False\n"
   ]
  },
  {
   "cell_type": "code",
   "execution_count": 26,
   "metadata": {
    "deletable": false,
    "editable": false,
    "nbgrader": {
     "cell_type": "code",
     "checksum": "869a4793fd3bd1462eec7f00398f8cd9",
     "grade": true,
     "grade_id": "cell-a64558eb5104a70a",
     "locked": true,
     "points": 2,
     "schema_version": 3,
     "solution": false,
     "task": false
    }
   },
   "outputs": [],
   "source": [
    "# Test cell  for exercise 9\n",
    "assert is_leap_year(2000) == True\n",
    "assert is_leap_year(1800) == False\n",
    "assert is_leap_year(1992) == True"
   ]
  },
  {
   "cell_type": "code",
   "execution_count": 27,
   "metadata": {
    "deletable": false,
    "editable": false,
    "nbgrader": {
     "cell_type": "code",
     "checksum": "173114344452b88378e1eae94bfeeb03",
     "grade": true,
     "grade_id": "cell-e720e02f8301a7c3",
     "locked": true,
     "points": 2,
     "schema_version": 3,
     "solution": false,
     "task": false
    }
   },
   "outputs": [],
   "source": [
    "# Test cell  for exercise 9"
   ]
  },
  {
   "cell_type": "code",
   "execution_count": 28,
   "metadata": {
    "deletable": false,
    "nbgrader": {
     "cell_type": "code",
     "checksum": "30282af709cc97991d60e4f1c34341f4",
     "grade": false,
     "grade_id": "cell-4f0751ced1b247b5",
     "locked": false,
     "schema_version": 3,
     "solution": true,
     "task": false
    }
   },
   "outputs": [],
   "source": [
    "# Exercise 10\n",
    "def is_palindrome(input_string):\n",
    "    # Write a function that determines if the input_string is a palindrome. Return True or False\n",
    "    # Use square brackets to reverse the input_string! Make sure to lower the input string before testing!\n",
    "    inputstring = input_string.lower()\n",
    "    if (inputstring == inputstring[::-1]):\n",
    "        return True\n",
    "    else:\n",
    "        return False\n"
   ]
  },
  {
   "cell_type": "code",
   "execution_count": 29,
   "metadata": {
    "deletable": false,
    "editable": false,
    "nbgrader": {
     "cell_type": "code",
     "checksum": "dab913eb7ca4b73a79b697150fd3e8a7",
     "grade": true,
     "grade_id": "cell-b317cf4721c1c02b",
     "locked": true,
     "points": 2,
     "schema_version": 3,
     "solution": false,
     "task": false
    }
   },
   "outputs": [],
   "source": [
    "# Test cell  for exercise 10\n",
    "assert is_palindrome(\"Kayak\") == True\n",
    "assert is_palindrome(\"Rotator\") == True\n",
    "assert is_palindrome(\"AACA\") == False\n"
   ]
  },
  {
   "cell_type": "code",
   "execution_count": 30,
   "metadata": {
    "deletable": false,
    "editable": false,
    "nbgrader": {
     "cell_type": "code",
     "checksum": "5b713a090aa3a67bb13668323146c5c9",
     "grade": true,
     "grade_id": "cell-fb9df3154f5e8cad",
     "locked": true,
     "points": 2,
     "schema_version": 3,
     "solution": false,
     "task": false
    }
   },
   "outputs": [],
   "source": [
    "# Test cell  for exercise 10 (hidden)"
   ]
  },
  {
   "cell_type": "code",
   "execution_count": null,
   "metadata": {},
   "outputs": [],
   "source": []
  }
 ],
 "metadata": {
  "kernelspec": {
   "display_name": "Python 3",
   "language": "python",
   "name": "python3"
  },
  "language_info": {
   "codemirror_mode": {
    "name": "ipython",
    "version": 3
   },
   "file_extension": ".py",
   "mimetype": "text/x-python",
   "name": "python",
   "nbconvert_exporter": "python",
   "pygments_lexer": "ipython3",
   "version": "3.6.9"
  }
 },
 "nbformat": 4,
 "nbformat_minor": 4
}
