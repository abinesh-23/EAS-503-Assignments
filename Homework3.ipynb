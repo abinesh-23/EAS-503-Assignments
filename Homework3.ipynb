{
 "cells": [
  {
   "cell_type": "markdown",
   "metadata": {},
   "source": [
    "Before you turn this problem in, make sure everything runs as expected. First, **restart the kernel** (in the menubar, select Kernel$\\rightarrow$Restart) and then **run all cells** (in the menubar, select Cell$\\rightarrow$Run All).\n",
    "\n",
    "Make sure you fill in any place that says `YOUR CODE HERE` or \"YOUR ANSWER HERE\", as well as your name and collaborators below:"
   ]
  },
  {
   "cell_type": "code",
   "execution_count": null,
   "metadata": {},
   "outputs": [],
   "source": [
    "NAME = \"Abinesh Senthil Kumar\"\n",
    "COLLABORATORS = \"\""
   ]
  },
  {
   "cell_type": "markdown",
   "metadata": {},
   "source": [
    "---"
   ]
  },
  {
   "cell_type": "code",
   "execution_count": null,
   "metadata": {
    "deletable": false,
    "nbgrader": {
     "cell_type": "code",
     "checksum": "0945608f60f388819e0c58a339bd1796",
     "grade": false,
     "grade_id": "cell-e7288cd6b4f835dc",
     "locked": false,
     "schema_version": 3,
     "solution": true,
     "task": false
    }
   },
   "outputs": [],
   "source": [
    "# Ex1: Season from Month and Day\n",
    "def determine_season(month, day):\n",
    "    month = str(month.lower())\n",
    "    day = int(day)\n",
    "    \n",
    "    #months = {1:january,2:february,3:march,4:april,5:may,6:june,7:july,8:august,9:september,10:october,11:november,12:december}\n",
    "    \n",
    "    months = {\"january\":1,\"february\":2, \"march\":3, \"april\":4, \"may\":5,\"june\":6,\"july\":7,\"august\":8,\"september\":9,\"october\":10,\"november\":11,\"december\":12}\n",
    "\n",
    "    monthnum = months[month]\n",
    "\n",
    "    import datetime as dt\n",
    "    d0 = dt.date(2019,1,1)\n",
    "    d1 = dt.date(2019,monthnum,day)\n",
    "    \n",
    "    diff = d1 - d0\n",
    "    \n",
    "    diff = diff.days\n",
    "    #print(diff)    \n",
    "    #d1 = dt.date(2019,12,27)\n",
    "\n",
    "    if diff >= 78 and diff < 171:\n",
    "        return \"Spring\"\n",
    "    \n",
    "    if diff >= 171 and diff < 264:\n",
    "        return \"Summer\"\n",
    "    \n",
    "    if diff >= 264 and diff < 354:\n",
    "        return \"Fall\"\n",
    "    \n",
    "    if diff >= 354 or diff < 78:\n",
    "        return \"Winter\"\n",
    "\n"
   ]
  },
  {
   "cell_type": "code",
   "execution_count": null,
   "metadata": {
    "deletable": false,
    "editable": false,
    "nbgrader": {
     "cell_type": "code",
     "checksum": "110d58d4887015ac0f9c1d2fd2f30c82",
     "grade": true,
     "grade_id": "cell-41b01563ca7bfa78",
     "locked": true,
     "points": 2,
     "schema_version": 3,
     "solution": false,
     "task": false
    }
   },
   "outputs": [],
   "source": [
    "assert determine_season('March', 21) == 'Spring'\n",
    "assert determine_season('June', 21) == 'Summer'\n",
    "assert determine_season('November', 21) == 'Fall'\n",
    "assert determine_season('January', 21) == 'Winter'"
   ]
  },
  {
   "cell_type": "code",
   "execution_count": null,
   "metadata": {
    "deletable": false,
    "editable": false,
    "nbgrader": {
     "cell_type": "code",
     "checksum": "a85fa8511fb7c2c2a39106caa715f1fd",
     "grade": true,
     "grade_id": "cell-eee77ee3863f3c90",
     "locked": true,
     "points": 2,
     "schema_version": 3,
     "solution": false,
     "task": false
    }
   },
   "outputs": [],
   "source": []
  },
  {
   "cell_type": "code",
   "execution_count": null,
   "metadata": {
    "deletable": false,
    "nbgrader": {
     "cell_type": "code",
     "checksum": "723299810b8b35d1b2819977eb4d89b2",
     "grade": false,
     "grade_id": "cell-91cc8d6f0acf4f9f",
     "locked": false,
     "schema_version": 3,
     "solution": true,
     "task": false
    }
   },
   "outputs": [],
   "source": [
    "# Ex2:Is a License Plate Valid?\n",
    "\n",
    "def is_license_plate_valid(plate):\n",
    "    num = str(plate)\n",
    "    \n",
    "    num = [i.split() for i in num]\n",
    "    \n",
    "    if len(num) == 6:\n",
    "        \n",
    "        try:\n",
    "            num[3][0] = float(num[3][0])\n",
    "            num[4][0] = float(num[4][0])\n",
    "            num[5][0] = float(num[5][0])\n",
    "        except:\n",
    "            return \"Invalid\"\n",
    "        \n",
    "        if num[0][0] == num[0][0].upper() and num[1][0] == num[1][0].upper() and num[2][0] == num[2][0].upper() and num[3][0].is_integer() and num[4][0].is_integer() and num[5][0].is_integer():\n",
    "            return \"Older/Valid\"\n",
    "        \n",
    "        else:\n",
    "            return \"Invalid\"\n",
    "    elif len(num) == 7:\n",
    "        \n",
    "        try:\n",
    "            num[0][0] = float(num[0][0])\n",
    "            num[1][0] = float(num[1][0])\n",
    "            num[2][0] = float(num[2][0])\n",
    "            num[3][0] = float(num[3][0])\n",
    "        except:\n",
    "            return \"Invalid\"\n",
    "        \n",
    "        if num[0][0].is_integer() and num[1][0].is_integer() and num[2][0].is_integer() and num[3][0].is_integer() and num[4][0] == num[4][0].upper() and num[5][0] == num[5][0].upper() and num[6][0] == num[6][0].upper():\n",
    "            return \"Newer/Valid\"\n",
    "        \n",
    "        else:\n",
    "            return \"Invalid\"\n",
    "    else:\n",
    "        return \"Invalid\"\n",
    "        \n"
   ]
  },
  {
   "cell_type": "code",
   "execution_count": null,
   "metadata": {
    "deletable": false,
    "editable": false,
    "nbgrader": {
     "cell_type": "code",
     "checksum": "3873f004b255e22c3824c6957a236c5d",
     "grade": true,
     "grade_id": "cell-a4a6978643ddcfe0",
     "locked": true,
     "points": 2,
     "schema_version": 3,
     "solution": false,
     "task": false
    }
   },
   "outputs": [],
   "source": [
    "assert is_license_plate_valid('ABC123') == 'Older/Valid'\n",
    "assert is_license_plate_valid('GHE952') == 'Older/Valid'\n",
    "assert is_license_plate_valid('1934ABT') == 'Newer/Valid'\n",
    "assert is_license_plate_valid('bTR342') == 'Invalid'"
   ]
  },
  {
   "cell_type": "code",
   "execution_count": null,
   "metadata": {
    "deletable": false,
    "editable": false,
    "nbgrader": {
     "cell_type": "code",
     "checksum": "da961cab6a0fbaad29f095e8fdda469d",
     "grade": true,
     "grade_id": "cell-46e008a0ccb94026",
     "locked": true,
     "points": 2,
     "schema_version": 3,
     "solution": false,
     "task": false
    }
   },
   "outputs": [],
   "source": []
  },
  {
   "cell_type": "code",
   "execution_count": null,
   "metadata": {
    "deletable": false,
    "nbgrader": {
     "cell_type": "code",
     "checksum": "2033e2e1d03fbcb286747a8ea8e721d5",
     "grade": false,
     "grade_id": "cell-27bf09ccd6919f1a",
     "locked": false,
     "schema_version": 3,
     "solution": true,
     "task": false
    }
   },
   "outputs": [],
   "source": [
    "#Ex3: Check a password\n",
    "\n",
    "def check_password(password):\n",
    "    \n",
    "    pwd = password\n",
    "    \n",
    "    if len(pwd) < 8:\n",
    "        return False\n",
    "    else:\n",
    "        if any(i.isupper() for i in pwd) == False:\n",
    "            return False\n",
    "        if any(i.isdigit() for i in pwd) == False:\n",
    "            return False\n",
    "        if any(i.islower() for i in pwd) == False:\n",
    "            return False\n",
    "        else:\n",
    "            return True\n",
    "\n"
   ]
  },
  {
   "cell_type": "code",
   "execution_count": null,
   "metadata": {
    "deletable": false,
    "editable": false,
    "nbgrader": {
     "cell_type": "code",
     "checksum": "96611061b18605e03c4523f5ab60b723",
     "grade": true,
     "grade_id": "cell-b3b1e2b92b28aba3",
     "locked": true,
     "points": 2,
     "schema_version": 3,
     "solution": false,
     "task": false
    }
   },
   "outputs": [],
   "source": [
    "assert check_password('test1234') == False\n",
    "assert check_password('password123') == False\n",
    "assert check_password('SuperPasswrd90') == True\n",
    "assert check_password('letmein!') == False\n"
   ]
  },
  {
   "cell_type": "code",
   "execution_count": null,
   "metadata": {
    "deletable": false,
    "editable": false,
    "nbgrader": {
     "cell_type": "code",
     "checksum": "6a42da29b210d4035310b5e5913207c7",
     "grade": true,
     "grade_id": "cell-9c53951c78f3bcbd",
     "locked": true,
     "points": 2,
     "schema_version": 3,
     "solution": false,
     "task": false
    }
   },
   "outputs": [],
   "source": [
    "\n"
   ]
  },
  {
   "cell_type": "code",
   "execution_count": null,
   "metadata": {
    "deletable": false,
    "nbgrader": {
     "cell_type": "code",
     "checksum": "1ed62de2ed81b4c4ab0030c5dd6ab4de",
     "grade": false,
     "grade_id": "cell-775a23c9b2859090",
     "locked": false,
     "schema_version": 3,
     "solution": true,
     "task": false
    }
   },
   "outputs": [],
   "source": [
    "# Ex4: Magic dates\n",
    "\n",
    "def is_magic_date(date):\n",
    "    date = date.split(\"/\")\n",
    "    \n",
    "    date = [i.split() for i in date]\n",
    "    \n",
    "    date = [int(i[0]) for i in date]\n",
    "    \n",
    "    day = date[0]\n",
    "    \n",
    "    month = date[1]\n",
    "    \n",
    "    year = (str(date[2]))\n",
    "    \n",
    "    year = int(year[2:])\n",
    "    \n",
    "    if (day*month) == year:\n",
    "        \n",
    "        return True\n",
    "    \n",
    "    else:\n",
    "        \n",
    "        return False\n",
    "    \n"
   ]
  },
  {
   "cell_type": "code",
   "execution_count": null,
   "metadata": {
    "deletable": false,
    "editable": false,
    "nbgrader": {
     "cell_type": "code",
     "checksum": "0aa2fc9128b0c4c59fadec867e174dc8",
     "grade": true,
     "grade_id": "cell-369c11b23998c1d5",
     "locked": true,
     "points": 4,
     "schema_version": 3,
     "solution": false,
     "task": false
    }
   },
   "outputs": [],
   "source": [
    "assert is_magic_date('6/10/1960') == True\n",
    "assert is_magic_date('6/8/1948') == True"
   ]
  },
  {
   "cell_type": "code",
   "execution_count": null,
   "metadata": {
    "deletable": false,
    "nbgrader": {
     "cell_type": "code",
     "checksum": "45747585370671a8cbf90c351fc7b464",
     "grade": false,
     "grade_id": "cell-3c0531b8de4d714d",
     "locked": false,
     "schema_version": 3,
     "solution": true,
     "task": false
    }
   },
   "outputs": [],
   "source": [
    "def remove_outliers(data, num_outliers):\n",
    "    \n",
    "    k = num_outliers\n",
    "    \n",
    "    n = range(1,k+1)\n",
    "    \n",
    "    for i in n:\n",
    "        data.pop(data.index(max(data)))\n",
    "\n",
    "    for i in n:\n",
    "        data.pop(data.index(min(data)))        \n",
    "\n",
    "    #len(data)\n",
    "    result = sorted(data)\n",
    "    \n",
    "    return result\n"
   ]
  },
  {
   "cell_type": "code",
   "execution_count": null,
   "metadata": {
    "deletable": false,
    "editable": false,
    "nbgrader": {
     "cell_type": "code",
     "checksum": "b51c820016745498f57c30abb528e074",
     "grade": true,
     "grade_id": "cell-227155127810eff3",
     "locked": true,
     "points": 2,
     "schema_version": 3,
     "solution": false,
     "task": false
    }
   },
   "outputs": [],
   "source": [
    "import random\n",
    "random.seed(1234)\n",
    "data = [random.randint(50, 150) for ele in range(100)]\n",
    "data[45] = 1\n",
    "data[46] = 2\n",
    "data[90] = 250\n",
    "data[34] = 300\n",
    "\n",
    "result = [50, 50, 51, 52, 52, 52, 53, 53, 54, \n",
    "55, 55, 55, 55, 56, 58, 58, 59, 59, 59, 60, 61, 61, \n",
    "61, 62, 64, 64, 64, 68, 68, 68, 69, 69, 69, 70, 71, \n",
    "72, 73, 75, 77, 80, 81, 81, 84, 84, 84, 85, 88, 88, 89, \n",
    "92, 94, 94, 95, 95, 98, 103, 106, 108, 108, 109, 109, 109, \n",
    "110, 111, 111, 112, 113, 114, 115, 115, 117, 117, 119, 121, \n",
    "124, 124, 125, 126, 128, 129, 132, 132, 133, 134, 135, 135, \n",
    "135, 136, 138, 140, 141, 148, 148, 149, 149, 150]\n",
    "\n",
    "assert remove_outliers(data, 2) == result\n"
   ]
  },
  {
   "cell_type": "code",
   "execution_count": null,
   "metadata": {
    "deletable": false,
    "editable": false,
    "nbgrader": {
     "cell_type": "code",
     "checksum": "495a58067bf62acc5d89dd710b1d332c",
     "grade": true,
     "grade_id": "cell-4765f8855ee87dc5",
     "locked": true,
     "points": 2,
     "schema_version": 3,
     "solution": false,
     "task": false
    }
   },
   "outputs": [],
   "source": []
  },
  {
   "cell_type": "code",
   "execution_count": 5,
   "metadata": {
    "deletable": false,
    "nbgrader": {
     "cell_type": "code",
     "checksum": "0535cdd2536035d65886fb8038851b20",
     "grade": false,
     "grade_id": "cell-815256da835e09ed",
     "locked": false,
     "schema_version": 3,
     "solution": true,
     "task": false
    }
   },
   "outputs": [],
   "source": [
    "# Ex6: Removing duplicates\n",
    "\n",
    "def remove_duplicates(words):\n",
    "    list = []\n",
    "    for i in words:\n",
    "        if i not in list:\n",
    "            list.append(i)\n",
    "            \n",
    "    return list\n",
    "    \n",
    "    \n",
    "    \n",
    "    \n",
    "    #     for i in words:\n",
    "#         if words.count(i) >= 2:\n",
    "#          words.remove(i)   \n",
    "#     return words\n",
    "\n",
    "#def remove_duplicates(words):\n",
    " #   words = set(words)\n",
    "  #  return words\n",
    "    "
   ]
  },
  {
   "cell_type": "code",
   "execution_count": 6,
   "metadata": {
    "deletable": false,
    "editable": false,
    "nbgrader": {
     "cell_type": "code",
     "checksum": "13919f2af66ae8a464a06a6baef031c1",
     "grade": true,
     "grade_id": "cell-96abefbf1a6700cd",
     "locked": true,
     "points": 2,
     "schema_version": 3,
     "solution": false,
     "task": false
    }
   },
   "outputs": [],
   "source": [
    "assert remove_duplicates([1,2,3,3,3,4,5,6,7,7,8]) == [1, 2, 3, 4, 5, 6, 7, 8]\n"
   ]
  },
  {
   "cell_type": "code",
   "execution_count": null,
   "metadata": {
    "deletable": false,
    "editable": false,
    "nbgrader": {
     "cell_type": "code",
     "checksum": "7ccc9f8a0e88b33fa34543707b159f10",
     "grade": true,
     "grade_id": "cell-9af188dcb9ade23a",
     "locked": true,
     "points": 2,
     "schema_version": 3,
     "solution": false,
     "task": false
    }
   },
   "outputs": [],
   "source": []
  },
  {
   "cell_type": "code",
   "execution_count": null,
   "metadata": {
    "deletable": false,
    "nbgrader": {
     "cell_type": "code",
     "checksum": "eb58209dafa5d3692f75aa7044112c72",
     "grade": false,
     "grade_id": "cell-12ea8be11e542c51",
     "locked": false,
     "schema_version": 3,
     "solution": true,
     "task": false
    }
   },
   "outputs": [],
   "source": [
    "# Ex7: List of proper divisors\n",
    "\n",
    "def proper_divisors(n):\n",
    "    range_of_pos = range(1,n)\n",
    "    prop_div = []\n",
    "    for i in range_of_pos:\n",
    "        if n % i == 0:\n",
    "            prop_div.append(i)\n",
    "            \n",
    "    return prop_div\n",
    "    \n",
    "    "
   ]
  },
  {
   "cell_type": "code",
   "execution_count": null,
   "metadata": {
    "deletable": false,
    "editable": false,
    "nbgrader": {
     "cell_type": "code",
     "checksum": "ba5b48b907ed7dfe598bc1f4bc183f8c",
     "grade": true,
     "grade_id": "cell-fddcfe9579472263",
     "locked": true,
     "points": 2,
     "schema_version": 3,
     "solution": false,
     "task": false
    }
   },
   "outputs": [],
   "source": [
    "assert proper_divisors(28) == [1, 2, 4, 7, 14]\n",
    "\n"
   ]
  },
  {
   "cell_type": "code",
   "execution_count": null,
   "metadata": {
    "deletable": false,
    "editable": false,
    "nbgrader": {
     "cell_type": "code",
     "checksum": "c08e33323a74ca3476f8668d0e58b3ad",
     "grade": true,
     "grade_id": "cell-c5d5761e00afab4e",
     "locked": true,
     "points": 2,
     "schema_version": 3,
     "solution": false,
     "task": false
    }
   },
   "outputs": [],
   "source": []
  },
  {
   "cell_type": "code",
   "execution_count": null,
   "metadata": {
    "deletable": false,
    "nbgrader": {
     "cell_type": "code",
     "checksum": "ea056014312b1e3403911fb865535dc5",
     "grade": false,
     "grade_id": "cell-08e0b5fe18e178bd",
     "locked": false,
     "schema_version": 3,
     "solution": true,
     "task": false
    }
   },
   "outputs": [],
   "source": [
    "#Ex8: Perfect Numbers\n",
    "def is_number_perfect(n):\n",
    "    def proper_divisors(n):\n",
    "        range_of_pos = range(1,n)\n",
    "        prop_div = []\n",
    "        for i in range_of_pos:\n",
    "            if n % i == 0:\n",
    "                prop_div.append(i)\n",
    "            \n",
    "        return prop_div\n",
    "    \n",
    "    if sum(proper_divisors(n)) == n:\n",
    "        return True\n",
    "    else:\n",
    "        return False"
   ]
  },
  {
   "cell_type": "code",
   "execution_count": null,
   "metadata": {
    "deletable": false,
    "editable": false,
    "nbgrader": {
     "cell_type": "code",
     "checksum": "c4b252c7193fe344b84260e277ef3194",
     "grade": true,
     "grade_id": "cell-5657e6c68422db39",
     "locked": true,
     "points": 2,
     "schema_version": 3,
     "solution": false,
     "task": false
    }
   },
   "outputs": [],
   "source": [
    "assert is_number_perfect(28) == True\n",
    "assert is_number_perfect(76) == False\n"
   ]
  },
  {
   "cell_type": "code",
   "execution_count": null,
   "metadata": {
    "deletable": false,
    "editable": false,
    "nbgrader": {
     "cell_type": "code",
     "checksum": "aba93b26b8484324ebade772fea6242e",
     "grade": true,
     "grade_id": "cell-a90a7b21c7687d99",
     "locked": true,
     "points": 2,
     "schema_version": 3,
     "solution": false,
     "task": false
    }
   },
   "outputs": [],
   "source": [
    "\n"
   ]
  },
  {
   "cell_type": "code",
   "execution_count": null,
   "metadata": {
    "deletable": false,
    "nbgrader": {
     "cell_type": "code",
     "checksum": "f6fef3724cb6bf8f4d4e460420a3effb",
     "grade": false,
     "grade_id": "cell-a1ccc2f098ce408c",
     "locked": false,
     "schema_version": 3,
     "solution": true,
     "task": false
    }
   },
   "outputs": [],
   "source": [
    "# Ex9: Line of Best Fit\n",
    "def best_line(points):\n",
    "    x = []\n",
    "    y = []\n",
    "    for i in points:\n",
    "        \n",
    "        x.append(i[0])\n",
    "        y.append(i[1])\n",
    "    \n",
    "    avg_x = sum(x)/len(x)\n",
    "    avg_y = sum(y)/len(y)\n",
    "\n",
    "    x_minus_xbar = []\n",
    "    for i in x:\n",
    "        x_minus_xbar.append(i-avg_x) \n",
    "\n",
    "    y_minus_ybar = []\n",
    "    for i in y:\n",
    "        y_minus_ybar.append(i-avg_y)    \n",
    "\n",
    "    product_of_norm_xy = []\n",
    "    for i,j in zip(x_minus_xbar,y_minus_ybar):\n",
    "        product_of_norm_xy.append(i*j)    \n",
    "\n",
    "    x_minus_x_avg_sq = []\n",
    "\n",
    "    for i in x:\n",
    "        x_minus_x_avg_sq.append(i-avg_x)\n",
    "\n",
    "    x_minus_x_avg_sq = [i**2 for i in x_minus_x_avg_sq]\n",
    "\n",
    "\n",
    "    slope = sum(product_of_norm_xy)/sum(x_minus_x_avg_sq)\n",
    "\n",
    "    y_intercept = avg_y - (slope*avg_x)\n",
    "\n",
    "    return (round(slope,2),round(y_intercept,2))\n",
    "\n"
   ]
  },
  {
   "cell_type": "code",
   "execution_count": null,
   "metadata": {
    "deletable": false,
    "editable": false,
    "nbgrader": {
     "cell_type": "code",
     "checksum": "47cee66ba1bfcb3028f16b039230afaf",
     "grade": true,
     "grade_id": "cell-f0ac1269eeca97e3",
     "locked": true,
     "points": 2,
     "schema_version": 3,
     "solution": false,
     "task": false
    }
   },
   "outputs": [],
   "source": [
    "points = (\n",
    "    (8, 3),\n",
    "    (2, 10),\n",
    "    (11, 3),\n",
    "    (6, 6),\n",
    "    (5, 8),\n",
    "    (4, 12),\n",
    "    (12, 1),\n",
    "    (9, 4),\n",
    "    (6, 9),\n",
    "    (1, 14),\n",
    ")\n",
    "\n",
    "assert best_line(points) == (-1.11, 14.08)"
   ]
  },
  {
   "cell_type": "code",
   "execution_count": null,
   "metadata": {
    "deletable": false,
    "editable": false,
    "nbgrader": {
     "cell_type": "code",
     "checksum": "b9d38a5e990a91ca3770182004315b27",
     "grade": true,
     "grade_id": "cell-176082640140d417",
     "locked": true,
     "points": 2,
     "schema_version": 3,
     "solution": false,
     "task": false
    }
   },
   "outputs": [],
   "source": []
  },
  {
   "cell_type": "code",
   "execution_count": null,
   "metadata": {
    "deletable": false,
    "nbgrader": {
     "cell_type": "code",
     "checksum": "1369b7c2d8ea35618c8b0c28a5249076",
     "grade": false,
     "grade_id": "cell-42f4bf8c7b879931",
     "locked": false,
     "schema_version": 3,
     "solution": true,
     "task": false
    }
   },
   "outputs": [],
   "source": [
    "# Ex10: Reverse Lookup\n",
    "\n",
    "def reverse_lookup(input_dict, test_value):\n",
    "\n",
    "    index = []\n",
    "    for i in input_dict:\n",
    "        index.append(i)\n",
    "        \n",
    "    values = []\n",
    "    for i in index:\n",
    "        values.append(input_dict[i])\n",
    "\n",
    "\n",
    "    index_no_of_val = []\n",
    "    for i in range(len(values)):\n",
    "        if values[i] == test_value:\n",
    "            index_no_of_val.append(i)\n",
    "\n",
    "    req_index = []\n",
    "    for i in index_no_of_val:\n",
    "        req_index.append(index[i]) \n",
    "\n",
    "    return req_index\n",
    "\n"
   ]
  },
  {
   "cell_type": "code",
   "execution_count": null,
   "metadata": {
    "deletable": false,
    "editable": false,
    "nbgrader": {
     "cell_type": "code",
     "checksum": "170c25080309a54253be3837a98dd993",
     "grade": true,
     "grade_id": "cell-668a78aad343067b",
     "locked": true,
     "points": 2,
     "schema_version": 3,
     "solution": false,
     "task": false
    }
   },
   "outputs": [],
   "source": [
    "input_dict = {\n",
    "    'January': 31,\n",
    "    'February': 28,\n",
    "    'March': 31,\n",
    "    'April': 30,\n",
    "    'May': 31,\n",
    "    'June': 30,\n",
    "    'July': 31,\n",
    "    'August': 31,\n",
    "    'September': 30,\n",
    "    'October': 31,\n",
    "    'November': 30,\n",
    "    'December': 31,\n",
    "}\n",
    "\n",
    "\n",
    "\n",
    "assert reverse_lookup(input_dict, 31) == ['January', 'March', 'May', 'July', 'August', 'October', 'December']\n",
    "\n"
   ]
  },
  {
   "cell_type": "code",
   "execution_count": null,
   "metadata": {
    "deletable": false,
    "editable": false,
    "nbgrader": {
     "cell_type": "code",
     "checksum": "761263d7ccda0d155afc9daa74cb4668",
     "grade": true,
     "grade_id": "cell-3f9dbfc14bd930a6",
     "locked": true,
     "points": 2,
     "schema_version": 3,
     "solution": false,
     "task": false
    }
   },
   "outputs": [],
   "source": []
  }
 ],
 "metadata": {
  "kernelspec": {
   "display_name": "Python 3",
   "language": "python",
   "name": "python3"
  },
  "language_info": {
   "codemirror_mode": {
    "name": "ipython",
    "version": 3
   },
   "file_extension": ".py",
   "mimetype": "text/x-python",
   "name": "python",
   "nbconvert_exporter": "python",
   "pygments_lexer": "ipython3",
   "version": "3.6.9"
  }
 },
 "nbformat": 4,
 "nbformat_minor": 4
}
