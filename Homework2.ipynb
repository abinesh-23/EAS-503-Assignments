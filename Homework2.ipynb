{
 "cells": [
  {
   "cell_type": "markdown",
   "metadata": {},
   "source": [
    "Before you turn this problem in, make sure everything runs as expected. First, **restart the kernel** (in the menubar, select Kernel$\\rightarrow$Restart) and then **run all cells** (in the menubar, select Cell$\\rightarrow$Run All).\n",
    "\n",
    "Make sure you fill in any place that says `YOUR CODE HERE` or \"YOUR ANSWER HERE\", as well as your name and collaborators below:"
   ]
  },
  {
   "cell_type": "code",
   "execution_count": 1,
   "metadata": {},
   "outputs": [],
   "source": [
    "NAME = \"Abinesh Senthil Kumar\"\n",
    "COLLABORATORS = \"\""
   ]
  },
  {
   "cell_type": "markdown",
   "metadata": {},
   "source": [
    "---"
   ]
  },
  {
   "cell_type": "code",
   "execution_count": 2,
   "metadata": {
    "deletable": false,
    "nbgrader": {
     "cell_type": "code",
     "checksum": "c15d1a0aea4945c6a2202b00f403cae8",
     "grade": false,
     "grade_id": "cell-a4ddc5d59b1c64bb",
     "locked": false,
     "schema_version": 3,
     "solution": true,
     "task": false
    }
   },
   "outputs": [],
   "source": [
    "# Ex1\n",
    "def average_word_len_in_sentence(sentence):\n",
    "\n",
    "    splitted = sentence.split(\" \")\n",
    "    length = len(splitted)\n",
    "    eachlen = 0\n",
    "    for x in splitted:\n",
    "        eachlen += len(x)\n",
    "    \n",
    "    return round((eachlen/length),2)"
   ]
  },
  {
   "cell_type": "code",
   "execution_count": 3,
   "metadata": {
    "deletable": false,
    "editable": false,
    "nbgrader": {
     "cell_type": "code",
     "checksum": "e6f12ad2751c237776ccf9f187e8e43f",
     "grade": true,
     "grade_id": "cell-014af2cf28c5fac7",
     "locked": true,
     "points": 2,
     "schema_version": 3,
     "solution": false,
     "task": false
    }
   },
   "outputs": [],
   "source": [
    "assert average_word_len_in_sentence('This is a test sentence!') == 4"
   ]
  },
  {
   "cell_type": "code",
   "execution_count": 4,
   "metadata": {
    "deletable": false,
    "editable": false,
    "nbgrader": {
     "cell_type": "code",
     "checksum": "d35cd7604c0057b407f17496db6b7598",
     "grade": true,
     "grade_id": "cell-251f809b4f7d4e57",
     "locked": true,
     "points": 2,
     "schema_version": 3,
     "solution": false,
     "task": false
    }
   },
   "outputs": [],
   "source": [
    "# Hidden test\n"
   ]
  },
  {
   "cell_type": "code",
   "execution_count": 5,
   "metadata": {
    "deletable": false,
    "nbgrader": {
     "cell_type": "code",
     "checksum": "f7c0df51c324a285bf59f9103cde3b8d",
     "grade": false,
     "grade_id": "cell-4afbc828a658cb2a",
     "locked": false,
     "schema_version": 3,
     "solution": true,
     "task": false
    }
   },
   "outputs": [],
   "source": [
    "#Ex2    \n",
    "def wc(filename):\n",
    "\n",
    "    file = open(filename, 'r')\n",
    "\n",
    "    number_lines = 0\n",
    "    number_words = 0\n",
    "    number_char = 0\n",
    "\n",
    "    for x in file:\n",
    "        number_lines += 1 \n",
    "        length_char = x.split()\n",
    "        number_words += len(length_char)\n",
    "        number_char += len(x)\n",
    "    \n",
    "    return (number_lines, number_words, number_char)\n",
    "    \n"
   ]
  },
  {
   "cell_type": "code",
   "execution_count": 6,
   "metadata": {
    "deletable": false,
    "editable": false,
    "nbgrader": {
     "cell_type": "code",
     "checksum": "37bad9ef9f1b015bdd060e564c79728b",
     "grade": true,
     "grade_id": "cell-9449925bf7f9a740",
     "locked": true,
     "points": 4,
     "schema_version": 3,
     "solution": false,
     "task": false
    }
   },
   "outputs": [],
   "source": [
    "assert wc('ex2_data.txt') == (50, 643, 4298)\n"
   ]
  },
  {
   "cell_type": "code",
   "execution_count": 7,
   "metadata": {
    "deletable": false,
    "nbgrader": {
     "cell_type": "code",
     "checksum": "9eefde4b2f84562d45fd13a2f5307f6d",
     "grade": false,
     "grade_id": "cell-44c50229f0f432b1",
     "locked": false,
     "schema_version": 3,
     "solution": true,
     "task": false
    }
   },
   "outputs": [],
   "source": [
    "# Ex3a\n",
    "def is_leap(year):\n",
    "    if year % 4 == 0:\n",
    "        if year % 100 == 0:\n",
    "            if year % 400 == 0:\n",
    "                #print(\"True\")\n",
    "                return True\n",
    "            else:\n",
    "                #print(\"False\")\n",
    "                return False\n",
    "        else:\n",
    "             return True\n",
    "    else:\n",
    "        return False\n"
   ]
  },
  {
   "cell_type": "code",
   "execution_count": 8,
   "metadata": {
    "deletable": false,
    "editable": false,
    "nbgrader": {
     "cell_type": "code",
     "checksum": "0d0b9e6cba07fa8c74b987bcc860b2e5",
     "grade": true,
     "grade_id": "cell-3f56767fb1829b44",
     "locked": true,
     "points": 1,
     "schema_version": 3,
     "solution": false,
     "task": false
    }
   },
   "outputs": [],
   "source": [
    "assert is_leap(1800) == False\n",
    "assert is_leap(1900) == False\n",
    "assert is_leap(1600) == True\n",
    "assert is_leap(2000) == True"
   ]
  },
  {
   "cell_type": "code",
   "execution_count": 9,
   "metadata": {
    "deletable": false,
    "nbgrader": {
     "cell_type": "code",
     "checksum": "e3edbe7386e99b19609dd424af56d267",
     "grade": false,
     "grade_id": "cell-ec2a09f5b6a54636",
     "locked": false,
     "schema_version": 3,
     "solution": true,
     "task": false
    }
   },
   "outputs": [],
   "source": [
    "#Ex3b\n",
    "def is_date_valid(month, day, year):\n",
    "   \n",
    "    def is_leap_year(year):\n",
    "    \n",
    "        if year % 4 == 0:\n",
    "            if year % 100 == 0:\n",
    "                if year % 400 == 0:\n",
    "                \n",
    "                    return True\n",
    "                else:\n",
    "                \n",
    "                    return False\n",
    "            else:\n",
    "                  return True\n",
    "        else:\n",
    "            return False\n",
    "    \n",
    "    day = int(day)\n",
    "    month = int(month)\n",
    "    year = int(year)\n",
    "    \n",
    "    month_date_dict = {1:range(1,32), 2:range(1,29), 3:range(1,32), 4:range(1,31),\n",
    "                       5:range(1,32), 6:range(1,31), 7:range(1,32), 8:range(1,32),\n",
    "                       9:range(1,31), 10:range(1,32), 11:range(1,31), 12:range(1,32)}\n",
    "    \n",
    "    if is_leap_year(year) == True:\n",
    "        if month in range(1,13):\n",
    "            if month == 2:\n",
    "                if day in range(1,30):\n",
    "                    return True\n",
    "                else:\n",
    "                    return False\n",
    "            elif day in month_date_dict[month]:\n",
    "                return True\n",
    "            else:\n",
    "                return False\n",
    "        else:\n",
    "            return False\n",
    "       \n",
    "    if is_leap_year(year) == False:\n",
    "        if month in range(1,13):\n",
    "            if day in month_date_dict[month]:\n",
    "                return True\n",
    "            else:\n",
    "                return False\n",
    "        else:\n",
    "            return False\n",
    "    "
   ]
  },
  {
   "cell_type": "code",
   "execution_count": 10,
   "metadata": {
    "deletable": false,
    "editable": false,
    "nbgrader": {
     "cell_type": "code",
     "checksum": "0496a22305f436a33fac00aa571e3cfd",
     "grade": true,
     "grade_id": "cell-2351e73237cb403c",
     "locked": true,
     "points": 1,
     "schema_version": 3,
     "solution": false,
     "task": false
    }
   },
   "outputs": [],
   "source": [
    "assert is_date_valid(5, 24, 1962) == True\n",
    "assert is_date_valid(9, 31, 2000) == False"
   ]
  },
  {
   "cell_type": "code",
   "execution_count": 11,
   "metadata": {
    "deletable": false,
    "editable": false,
    "nbgrader": {
     "cell_type": "code",
     "checksum": "85b31e62004ed39321d6c7865f5b8adc",
     "grade": true,
     "grade_id": "cell-fe0d25010ddcf60b",
     "locked": true,
     "points": 2,
     "schema_version": 3,
     "solution": false,
     "task": false
    }
   },
   "outputs": [],
   "source": [
    "# Hidden tests"
   ]
  },
  {
   "cell_type": "code",
   "execution_count": 12,
   "metadata": {
    "deletable": false,
    "nbgrader": {
     "cell_type": "code",
     "checksum": "a96f0d7eb97c9744ce4a0727cc6dcd52",
     "grade": false,
     "grade_id": "cell-deffc09fbb6e4ff0",
     "locked": false,
     "schema_version": 3,
     "solution": true,
     "task": false
    }
   },
   "outputs": [],
   "source": [
    "#Ex4            \n",
    "def day_number(month, day, year):   \n",
    "    \n",
    "    def is_date_valid(month, day, year):\n",
    "   \n",
    "        def is_leap_year(year):\n",
    "    \n",
    "            if year % 4 == 0:\n",
    "                if year % 100 == 0:\n",
    "                    if year % 400 == 0:               \n",
    "                        return True\n",
    "                    else:               \n",
    "                        return False\n",
    "                else:\n",
    "                    return True\n",
    "            else:\n",
    "                return False\n",
    "    \n",
    "        day = int(day)\n",
    "        month = int(month)\n",
    "        year = int(year)\n",
    "    \n",
    "        month_date_dict = {1:range(1,32), 2:range(1,29), 3:range(1,32), 4:range(1,31),\n",
    "                           5:range(1,32), 6:range(1,31), 7:range(1,32), 8:range(1,32),\n",
    "                           9:range(1,31), 10:range(1,32), 11:range(1,31), 12:range(1,32)}\n",
    "    \n",
    "        if is_leap_year(year) == True:\n",
    "            if month in range(1,13):\n",
    "                if month == 2:\n",
    "                    if day in range(1,30):\n",
    "                        return True\n",
    "                    else:\n",
    "                        return False\n",
    "                elif day in month_date_dict[month]:\n",
    "                    return True\n",
    "                else:\n",
    "                    return False\n",
    "            else:\n",
    "                return False\n",
    "       \n",
    "        if is_leap_year(year) == False:\n",
    "            if month in range(1,13):\n",
    "                if day in month_date_dict[month]:\n",
    "                    return True\n",
    "                else:\n",
    "                    return False\n",
    "            else:\n",
    "                return False\n",
    "            \n",
    "    if is_date_valid(month, day, year) == True:\n",
    "    \n",
    "        import datetime as dt\n",
    "\n",
    "        d0 = dt.date(year,1,1)\n",
    "        d1 = dt.date(year, month, day)\n",
    "\n",
    "\n",
    "        diff = (d1 - d0)\n",
    "\n",
    "        return (diff.days+1)\n",
    "        \n",
    "    else:\n",
    "        \n",
    "        return False\n",
    "\n"
   ]
  },
  {
   "cell_type": "code",
   "execution_count": 13,
   "metadata": {
    "deletable": false,
    "editable": false,
    "nbgrader": {
     "cell_type": "code",
     "checksum": "dd1824d5c2fda29e2157dec4c5815264",
     "grade": true,
     "grade_id": "cell-d6eaeeca3283f71c",
     "locked": true,
     "points": 2,
     "schema_version": 3,
     "solution": false,
     "task": false
    }
   },
   "outputs": [],
   "source": [
    "assert day_number(9, 31, 2000) == False\n",
    "assert day_number(2, 13, 2020) == 44"
   ]
  },
  {
   "cell_type": "code",
   "execution_count": 14,
   "metadata": {
    "deletable": false,
    "editable": false,
    "nbgrader": {
     "cell_type": "code",
     "checksum": "1d4e1f2ba24279da3ccb86f6e280e324",
     "grade": true,
     "grade_id": "cell-4e3c036b2a757130",
     "locked": true,
     "points": 2,
     "schema_version": 3,
     "solution": false,
     "task": false
    }
   },
   "outputs": [],
   "source": [
    "# Hidden tests\n"
   ]
  },
  {
   "cell_type": "code",
   "execution_count": 15,
   "metadata": {
    "deletable": false,
    "nbgrader": {
     "cell_type": "code",
     "checksum": "7e152e686ee978fa3cd91c2f678938a7",
     "grade": false,
     "grade_id": "cell-8ed9233092ac6714",
     "locked": false,
     "schema_version": 3,
     "solution": true,
     "task": false
    }
   },
   "outputs": [],
   "source": [
    "#Ex5\n",
    "def years_to_double_investment(apr):\n",
    "    principle = 1\n",
    "    count = 0\n",
    "    total = principle\n",
    "    #value = principle\n",
    "    while total < 2*principle:\n",
    "        total = total * (1 + apr)\n",
    "        count += 1\n",
    "        #total1.append(total)\n",
    "        \n",
    "    return (count)"
   ]
  },
  {
   "cell_type": "code",
   "execution_count": 16,
   "metadata": {
    "deletable": false,
    "editable": false,
    "nbgrader": {
     "cell_type": "code",
     "checksum": "d6a0aacf4ba472e5a966554f0080492d",
     "grade": true,
     "grade_id": "cell-9723aeff061e58f8",
     "locked": true,
     "points": 4,
     "schema_version": 3,
     "solution": false,
     "task": false
    }
   },
   "outputs": [],
   "source": [
    "assert years_to_double_investment(0.06) == 12\n",
    "assert years_to_double_investment(0.1) == 8"
   ]
  },
  {
   "cell_type": "code",
   "execution_count": 17,
   "metadata": {
    "deletable": false,
    "nbgrader": {
     "cell_type": "code",
     "checksum": "a1c4bcb4f711fcc5dd1c66fdf2e671e6",
     "grade": false,
     "grade_id": "cell-21c962647acaa4f7",
     "locked": false,
     "schema_version": 3,
     "solution": true,
     "task": false
    }
   },
   "outputs": [],
   "source": [
    "#Ex6 \n",
    "def stopping_time(n):\n",
    "    n = int(n)\n",
    "    count = 0\n",
    "    while n > 1:\n",
    "        if n % 2 == 0:\n",
    "            n = n/2\n",
    "        else:\n",
    "            n = (n*3) + 1\n",
    "        \n",
    "        count += 1\n",
    "    return (count)"
   ]
  },
  {
   "cell_type": "code",
   "execution_count": 18,
   "metadata": {
    "deletable": false,
    "editable": false,
    "nbgrader": {
     "cell_type": "code",
     "checksum": "529cdf4e37d47807879c21e831dfbf39",
     "grade": true,
     "grade_id": "cell-f491a588fd348765",
     "locked": true,
     "points": 2,
     "schema_version": 3,
     "solution": false,
     "task": false
    }
   },
   "outputs": [],
   "source": [
    "assert stopping_time(12) == 9\n",
    "assert stopping_time(27) == 111"
   ]
  },
  {
   "cell_type": "code",
   "execution_count": 19,
   "metadata": {
    "deletable": false,
    "editable": false,
    "nbgrader": {
     "cell_type": "code",
     "checksum": "642f94c5667c5348b93f6ac917b71be6",
     "grade": true,
     "grade_id": "cell-262eecd85e894adc",
     "locked": true,
     "points": 2,
     "schema_version": 3,
     "solution": false,
     "task": false
    }
   },
   "outputs": [],
   "source": [
    "# hidden tests"
   ]
  },
  {
   "cell_type": "code",
   "execution_count": 20,
   "metadata": {
    "deletable": false,
    "nbgrader": {
     "cell_type": "code",
     "checksum": "2dd54f4ef393102d6da2410d3544ed1f",
     "grade": false,
     "grade_id": "cell-aca81ecb43fae85b",
     "locked": false,
     "schema_version": 3,
     "solution": true,
     "task": false
    }
   },
   "outputs": [],
   "source": [
    "#Ex7\n",
    "def is_prime(n):\n",
    "    \n",
    "\n",
    "    import math as m\n",
    "    rangeof = range(2,((m.ceil(m.sqrt(n)))+1))\n",
    "    if n == 1:\n",
    "        return False\n",
    "    elif n == 2:\n",
    "        return False\n",
    "    elif n == 3:\n",
    "        return True\n",
    "    elif n == 4:\n",
    "        return False\n",
    "    elif n == 5:\n",
    "        return True\n",
    "    elif n == 6:\n",
    "        return False\n",
    "    elif n == 7:\n",
    "        return True\n",
    "    elif n == 8:\n",
    "        return False\n",
    "    elif n == 9:\n",
    "        return False\n",
    "    else:\n",
    "        for i in rangeof:\n",
    "            if n % i == 0:\n",
    "                return False\n",
    "                break            \n",
    "        return True\n"
   ]
  },
  {
   "cell_type": "code",
   "execution_count": 21,
   "metadata": {
    "deletable": false,
    "editable": false,
    "nbgrader": {
     "cell_type": "code",
     "checksum": "3e0f302f9e866ccc5261868cc490636a",
     "grade": true,
     "grade_id": "cell-0b96e1ea0ae047b3",
     "locked": true,
     "points": 4,
     "schema_version": 3,
     "solution": false,
     "task": false
    }
   },
   "outputs": [],
   "source": [
    "assert is_prime(2) == False\n",
    "assert is_prime(3) == True\n",
    "assert is_prime(5) == True\n",
    "assert is_prime(25) == False\n"
   ]
  },
  {
   "cell_type": "code",
   "execution_count": 22,
   "metadata": {
    "deletable": false,
    "nbgrader": {
     "cell_type": "code",
     "checksum": "7c9c542a060e729c8458b218f734660b",
     "grade": false,
     "grade_id": "cell-dac6f81c3067bb57",
     "locked": false,
     "schema_version": 3,
     "solution": true,
     "task": false
    }
   },
   "outputs": [],
   "source": [
    "#Ex8\n",
    "def all_primes(n):\n",
    "    listf = []\n",
    "    \n",
    "    import math as m\n",
    "    def is_prime(n):\n",
    "    \n",
    "\n",
    "        import math as m\n",
    "        rangeof = range(2,((m.ceil(m.sqrt(n)))+1))\n",
    "        if n == 1:\n",
    "            return False\n",
    "        elif n == 2:\n",
    "            return False\n",
    "        elif n == 3:\n",
    "            return True\n",
    "        elif n == 4:\n",
    "            return False\n",
    "        elif n == 5:\n",
    "            return True\n",
    "        elif n == 6:\n",
    "            return False\n",
    "        elif n == 7:\n",
    "            return True\n",
    "        elif n == 8:\n",
    "            return False\n",
    "        elif n == 9:\n",
    "            return False\n",
    "        else:\n",
    "            for i in rangeof:\n",
    "                if n % i == 0:\n",
    "                    return False\n",
    "                    break            \n",
    "            return True\n",
    "\n",
    "              \n",
    "    for num in range(1,n+1):\n",
    "        if is_prime(num) == True:\n",
    "            listf.append(num)\n",
    "    return listf\n"
   ]
  },
  {
   "cell_type": "code",
   "execution_count": 23,
   "metadata": {
    "deletable": false,
    "editable": false,
    "nbgrader": {
     "cell_type": "code",
     "checksum": "cb796dd5b530d3ae197dfa188258f413",
     "grade": true,
     "grade_id": "cell-da4a1c19327e9780",
     "locked": true,
     "points": 4,
     "schema_version": 3,
     "solution": false,
     "task": false
    }
   },
   "outputs": [],
   "source": [
    "assert all_primes(5) == [3, 5]\n",
    "assert all_primes(25) == [3, 5, 7, 11, 13, 17, 19, 23]\n"
   ]
  },
  {
   "cell_type": "code",
   "execution_count": 24,
   "metadata": {
    "deletable": false,
    "nbgrader": {
     "cell_type": "code",
     "checksum": "79bc4b58ff0d4713e3d353aba32a1cb8",
     "grade": false,
     "grade_id": "cell-73cc6f55ad21f007",
     "locked": false,
     "schema_version": 3,
     "solution": true,
     "task": false
    }
   },
   "outputs": [],
   "source": [
    "#Ex9\n",
    "def gcd(m,n):\n",
    "    while m!= 0:\n",
    "\n",
    "        temp = m\n",
    "        m = n%m\n",
    "        n = temp\n",
    "        \n",
    "    return n\n",
    "\n"
   ]
  },
  {
   "cell_type": "code",
   "execution_count": 25,
   "metadata": {
    "deletable": false,
    "editable": false,
    "nbgrader": {
     "cell_type": "code",
     "checksum": "773e5c8c64ae2a15a42ed05e116a8e52",
     "grade": true,
     "grade_id": "cell-9d49980644cc48c9",
     "locked": true,
     "points": 2,
     "schema_version": 3,
     "solution": false,
     "task": false
    }
   },
   "outputs": [],
   "source": [
    "assert gcd(25,75) == 25\n",
    "assert gcd(3,13) == 1"
   ]
  },
  {
   "cell_type": "code",
   "execution_count": null,
   "metadata": {
    "deletable": false,
    "editable": false,
    "nbgrader": {
     "cell_type": "code",
     "checksum": "f3ed0925f74245c1736b543e3b8a16ed",
     "grade": true,
     "grade_id": "cell-7ee1b35ba4536fe5",
     "locked": true,
     "points": 2,
     "schema_version": 3,
     "solution": false,
     "task": false
    }
   },
   "outputs": [],
   "source": []
  },
  {
   "cell_type": "code",
   "execution_count": 26,
   "metadata": {
    "deletable": false,
    "nbgrader": {
     "cell_type": "code",
     "checksum": "39b0e97e11b05f64c9708e10c004d900",
     "grade": false,
     "grade_id": "cell-70099f7d154d3a41",
     "locked": false,
     "schema_version": 3,
     "solution": true,
     "task": false
    }
   },
   "outputs": [],
   "source": [
    "#Ex10\n",
    "def determine_min_max_average(filename):\n",
    "    file = open(filename, 'r')\n",
    "\n",
    "    linelist = file.readlines()\n",
    "\n",
    "    linelist = [x.strip() for x in linelist]\n",
    "    \n",
    "    linelist = [line for line in linelist if line.strip()]\n",
    "    \n",
    "    linelist = [i.split(\",\") for i in linelist]\n",
    "    \n",
    "    marksonly = [x[1:] for x in linelist]    \n",
    "    \n",
    "    studentname = [x[0] for x in linelist]\n",
    "\n",
    "    avg = []\n",
    "\n",
    "    marksonly = [[int(y) for y in x]for x in marksonly]\n",
    "\n",
    "    avg = []\n",
    "    for x in marksonly:\n",
    "        avg.append(sum(x)/len(x))\n",
    "        \n",
    "    avg.index(max(avg))\n",
    "    avg.index(min(avg))\n",
    "\n",
    "    tupled = (studentname[avg.index(max(avg))] , max(avg) , studentname[avg.index(min(avg))] , min(avg))\n",
    "    \n",
    "    return tupled"
   ]
  },
  {
   "cell_type": "code",
   "execution_count": 27,
   "metadata": {
    "deletable": false,
    "editable": false,
    "nbgrader": {
     "cell_type": "code",
     "checksum": "ccf35d9e82e303374ee7a0bc78617304",
     "grade": true,
     "grade_id": "cell-09e42883bbf8750a",
     "locked": true,
     "points": 4,
     "schema_version": 3,
     "solution": false,
     "task": false
    }
   },
   "outputs": [],
   "source": [
    "assert determine_min_max_average('ex10_data.txt') == ('student733', 86.2, 'student202', 65.4)"
   ]
  },
  {
   "cell_type": "code",
   "execution_count": null,
   "metadata": {},
   "outputs": [],
   "source": []
  },
  {
   "cell_type": "code",
   "execution_count": null,
   "metadata": {},
   "outputs": [],
   "source": []
  },
  {
   "cell_type": "code",
   "execution_count": null,
   "metadata": {},
   "outputs": [],
   "source": []
  }
 ],
 "metadata": {
  "kernelspec": {
   "display_name": "Python 3",
   "language": "python",
   "name": "python3"
  },
  "language_info": {
   "codemirror_mode": {
    "name": "ipython",
    "version": 3
   },
   "file_extension": ".py",
   "mimetype": "text/x-python",
   "name": "python",
   "nbconvert_exporter": "python",
   "pygments_lexer": "ipython3",
   "version": "3.6.9"
  }
 },
 "nbformat": 4,
 "nbformat_minor": 4
}
